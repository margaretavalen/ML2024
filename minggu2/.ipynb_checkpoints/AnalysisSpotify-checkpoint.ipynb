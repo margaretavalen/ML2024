{
 "cells": [
  {
   "cell_type": "markdown",
   "id": "1bbc3714-7d89-4b3b-9f82-cf30ff662cdf",
   "metadata": {},
   "source": [
    "## Memuat Data"
   ]
  },
  {
   "cell_type": "code",
   "execution_count": null,
   "id": "6c08f661-deea-489a-a353-84ff67b3e97c",
   "metadata": {},
   "outputs": [],
   "source": [
    "# import library\n",
    "import numpy as np \n",
    "import pandas as pd\n",
    "import seaborn as sns\n",
    "import matplotlib.pyplot as plt\n",
    "from prettytable import PrettyTable"
   ]
  },
  {
   "cell_type": "code",
   "execution_count": null,
   "id": "3ee8aefd-eaca-41d5-b75b-b5dcdc9353e2",
   "metadata": {},
   "outputs": [],
   "source": [
    "import os\n",
    "for dirname, _, filenames in os.walk('spotify_top_songs_audio_datasets.csv'):\n",
    "    for filename in filenames:\n",
    "        print(os.path.join(dirname, filename))"
   ]
  },
  {
   "cell_type": "code",
   "execution_count": null,
   "id": "0c8cddf7-15df-48f2-930f-209547e4f70d",
   "metadata": {},
   "outputs": [],
   "source": [
    "song_df = pd.read_csv(\"spotify_top_songs_audio_datasets.csv\")"
   ]
  },
  {
   "cell_type": "code",
   "execution_count": null,
   "id": "6abb6768-0800-4370-934a-fe68346f70f0",
   "metadata": {},
   "outputs": [],
   "source": [
    "# Menampilkan 10 baris data awal dari dataset\n",
    "song_df.head(10)"
   ]
  },
  {
   "cell_type": "code",
   "execution_count": null,
   "id": "8dd9118f-5d93-4fd9-9589-7baab093fa16",
   "metadata": {},
   "outputs": [],
   "source": [
    "# Menampilkan 10 baris data akhir dari dataset\n",
    "song_df.tail(10)"
   ]
  },
  {
   "cell_type": "markdown",
   "id": "20f7bff1-9530-48c9-8ad7-cc88f73f80f3",
   "metadata": {},
   "source": [
    "## Menelaah Data"
   ]
  },
  {
   "cell_type": "code",
   "execution_count": null,
   "id": "719cff3a-1737-4c26-be0b-2ef7ae3a241a",
   "metadata": {},
   "outputs": [],
   "source": [
    "# mengungkap tipe-tipe data dari setiap kolom\n",
    "print(song_df.dtypes)"
   ]
  },
  {
   "cell_type": "code",
   "execution_count": null,
   "id": "5bb29ea5-872e-45ba-96c5-fdfb2713fab4",
   "metadata": {},
   "outputs": [],
   "source": [
    "# Mengungkap informasi dataset\n",
    "song_df.info()"
   ]
  },
  {
   "cell_type": "code",
   "execution_count": null,
   "id": "be2ba12b-c4ab-4735-8a89-06cf306c098b",
   "metadata": {},
   "outputs": [],
   "source": []
  },
  {
   "cell_type": "code",
   "execution_count": null,
   "id": "10ff3f60-c62b-461e-935e-01753c85794f",
   "metadata": {},
   "outputs": [],
   "source": []
  }
 ],
 "metadata": {
  "kernelspec": {
   "display_name": "Python 3 (ipykernel)",
   "language": "python",
   "name": "python3"
  },
  "language_info": {
   "codemirror_mode": {
    "name": "ipython",
    "version": 3
   },
   "file_extension": ".py",
   "mimetype": "text/x-python",
   "name": "python",
   "nbconvert_exporter": "python",
   "pygments_lexer": "ipython3",
   "version": "3.11.1"
  }
 },
 "nbformat": 4,
 "nbformat_minor": 5
}
